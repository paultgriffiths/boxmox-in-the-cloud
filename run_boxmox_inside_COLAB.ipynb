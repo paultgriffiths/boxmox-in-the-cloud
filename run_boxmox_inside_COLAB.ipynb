{
  "nbformat": 4,
  "nbformat_minor": 0,
  "metadata": {
    "colab": {
      "provenance": [],
      "authorship_tag": "ABX9TyMskQGqy53HprejYlj1zOif",
      "include_colab_link": true
    },
    "kernelspec": {
      "name": "python3",
      "display_name": "Python 3"
    },
    "language_info": {
      "name": "python"
    }
  },
  "cells": [
    {
      "cell_type": "markdown",
      "metadata": {
        "id": "view-in-github",
        "colab_type": "text"
      },
      "source": [
        "<a href=\"https://colab.research.google.com/github/paultgriffiths/boxmox-in-the-cloud/blob/main/run_boxmox_inside_COLAB.ipynb\" target=\"_parent\"><img src=\"https://colab.research.google.com/assets/colab-badge.svg\" alt=\"Open In Colab\"/></a>"
      ]
    },
    {
      "cell_type": "code",
      "source": [
        "!apt-get install bison flex yacc\n"
      ],
      "metadata": {
        "id": "XdGnaQeu0CXj"
      },
      "execution_count": null,
      "outputs": []
    },
    {
      "cell_type": "code",
      "source": [
        "from google.colab import drive\n",
        "drive.mount('/content/drive')"
      ],
      "metadata": {
        "id": "wF3hKGkvRvg1"
      },
      "execution_count": null,
      "outputs": []
    },
    {
      "cell_type": "code",
      "source": [
        "!ls\n",
        "!pwd"
      ],
      "metadata": {
        "id": "HdW4vPQXRo4E"
      },
      "execution_count": null,
      "outputs": []
    },
    {
      "cell_type": "code",
      "source": [
        "## required modules\n",
        "import os\n",
        "import pandas as pd\n",
        "import seaborn as sns\n",
        "import matplotlib.pyplot as plt"
      ],
      "metadata": {
        "id": "PkVU1bn2mf8I"
      },
      "execution_count": null,
      "outputs": []
    },
    {
      "cell_type": "code",
      "source": [
        "## suppress output\n",
        "#%%capture\n",
        "\n",
        "## flag to check if need to install KPP\n",
        "install_BOXMOX  = True\n",
        "\n",
        "## install modules necessary for running BOXMOX and KPP\n",
        "!apt-get install flex bison\n",
        "\n",
        "## now install BOXMOX\n",
        "if install_BOXMOX:\n",
        "    !cp /content/drive/MyDrive/Colab/Seb-OH/boxmox-1.8.tar.gz ./\n",
        "    !tar zxf boxmox-1.8.tar.gz\n",
        "    # install BOXMOX via command-line\n",
        "    %cd boxmox-1.8\n",
        "    !././configure --prefix=/content/\n",
        "    !make\n",
        "    !make install"
      ],
      "metadata": {
        "id": "PRuEGcWIeCGk"
      },
      "execution_count": null,
      "outputs": []
    },
    {
      "cell_type": "code",
      "source": [
        "%pwd"
      ],
      "metadata": {
        "id": "5iUdBsCvXNSU"
      },
      "execution_count": null,
      "outputs": []
    },
    {
      "cell_type": "code",
      "source": [
        "# modify environment variables, NB can't use BASH export, need to use  os module\n",
        "# see https://stackoverflow.com/questions/49684495/is-it-possible-to-set-environment-variables-in-googles-colaboratory\n",
        "os.environ['KPP_HOME'] = \"/content/share/boxmox/\"\n",
        "os.environ['PATH'] += \":/content/bin/\"\n",
        "\n",
        "# sanity check\n",
        "!which kpp"
      ],
      "metadata": {
        "id": "-0HcxOCLeLLR"
      },
      "execution_count": null,
      "outputs": []
    },
    {
      "cell_type": "code",
      "source": [
        "## set up KPP for use with MOZART_T1 mechanism\n",
        "%cd /content/bin/\n",
        "!/content/bin/prepare_BOXMOX_mechanism MOZART_4"
      ],
      "metadata": {
        "id": "QvVJfVaZeQbB"
      },
      "execution_count": null,
      "outputs": []
    },
    {
      "cell_type": "code",
      "source": [
        "#＃ set up new MOZART_T1 PBL experiment\n",
        "%cd /content/bin/\n",
        "!/content/bin/new_BOXMOX_experiment_from_example pbl_diurnal_cycle"
      ],
      "metadata": {
        "id": "FCUHZ2Xjipk4"
      },
      "execution_count": null,
      "outputs": []
    },
    {
      "cell_type": "code",
      "source": [
        "## run the first experiment with defaults\n",
        "%%capture\n",
        "%cd /content/bin/pbl_diurnal_cycle\n",
        "!./MOZART_4.exe"
      ],
      "metadata": {
        "id": "4NpweaYakG3c"
      },
      "execution_count": null,
      "outputs": []
    },
    {
      "cell_type": "code",
      "source": [
        "concs = pd.read_csv('./MOZART_4.conc', header=0, delim_whitespace=True, index_col=0)\n",
        "ems = pd.read_csv('Emissions.csv', skiprows=3, delim_whitespace=True)\n",
        "rep_ems = pd.concat([ems.iloc[0:24,:]]*4, ignore_index=True)\n",
        "jrates = pd.read_csv('PhotolysisRates.csv', skiprows=3, delim_whitespace=True)\n",
        "rep_jrates = pd.concat([jrates.iloc[0:24,:]]*4, ignore_index=True)"
      ],
      "metadata": {
        "id": "l2QItcWikrBM"
      },
      "execution_count": null,
      "outputs": []
    },
    {
      "cell_type": "code",
      "source": [
        "sns.set_context(\"talk\")\n",
        "fig=plt.figure()\n",
        "fig = plt.gcf()\n",
        "fig.set_size_inches(10, 10)\n",
        "\n",
        "\n",
        "\n",
        "ax = fig.add_subplot(2,2,1)\n",
        "sns.lineplot( concs['O3'], ax=ax, label='O3')\n",
        "sns.lineplot( concs['NO2'], ax=ax, label='NO2')\n",
        "## could go fancier with additional diagnostics\n",
        "# sns.lineplot( (results['NO2'] + results['O3']), label = 'Oxidant', ax=ax)#.plot(ax=ax, grid=True)\n",
        "# sns.lineplot( (results['NO2'] + results['O3'] + results['HNO3']), label = 'Oy', ax=ax)#.plot(ax=ax, grid=True)\n",
        "\n",
        "ax.set(xlabel='Time / hours', ylabel='Mixing ratio / ppm')\n",
        "plt.grid(True)\n",
        "plt.legend(ncols=4,bbox_to_anchor=(0.95, -0.15))\n",
        "plt.title(\"Pollutants\")\n",
        "\n",
        "ax = fig.add_subplot(2,2,2)\n",
        "sns.lineplot( rep_ems['CO'], ax=ax, label='CO')\n",
        "sns.lineplot( rep_ems['NO'], ax=ax, label='NO')\n",
        "#sns.lineplot( results['NO2'], ax=ax, label='NO2')\n",
        "## could go fancier with additional diagnostics\n",
        "# sns.lineplot( (results['NO2'] + results['O3']), label = 'Oxidant', ax=ax)#.plot(ax=ax, grid=True)\n",
        "# sns.lineplot( (results['NO2'] + results['O3'] + results['HNO3']), label = 'Oy', ax=ax)#.plot(ax=ax, grid=True)\n",
        "\n",
        "ax.set(xlabel='Time / hours', ylabel='Emissions / cm-2 s-1')\n",
        "plt.grid(True)\n",
        "plt.title(\"Emissions\")\n",
        "plt.legend(ncols=4,bbox_to_anchor=(0.95, -0.15))\n",
        "\n",
        "\n",
        "ax = fig.add_subplot(2,2,3)\n",
        "sns.lineplot( rep_jrates['ch3cho'], ax=ax, label='CO')\n",
        "#sns.lineplot( rep_ems['NO'], ax=ax, label='NO')\n",
        "#sns.lineplot( results['NO2'], ax=ax, label='NO2')\n",
        "## could go fancier with additional diagnostics\n",
        "# sns.lineplot( (results['NO2'] + results['O3']), label = 'Oxidant', ax=ax)#.plot(ax=ax, grid=True)\n",
        "# sns.lineplot( (results['NO2'] + results['O3'] + results['HNO3']), label = 'Oy', ax=ax)#.plot(ax=ax, grid=True)\n",
        "\n",
        "ax.set(xlabel='Time / hours', ylabel='Photolysis rate constant / s-1')\n",
        "plt.grid(True)\n",
        "plt.title(\"Sunlight intensity\")\n",
        "plt.legend(ncols=4,bbox_to_anchor=(0.95, -0.15))\n",
        "\n",
        "plt.tight_layout()"
      ],
      "metadata": {
        "id": "SgtPtfzimLWN"
      },
      "execution_count": null,
      "outputs": []
    },
    {
      "cell_type": "code",
      "source": [
        "## optional - plot as function date, rather than hours\n",
        "# import datetime as dt\n",
        "# import matplotlib.dates as mdates\n",
        "# results['time_in_minutes']=results['time']*60\n",
        "# results['new_time'] = dt.datetime(2010,1,1) + pd.TimedeltaIndex(results['time_in_minutes'], unit='m')\n",
        "# ... do plotting\n",
        "# myFmt = mdates.DateFormatter('%d-%H')\n",
        "# ax.xaxis.set_major_formatter(myFmt)\n"
      ],
      "metadata": {
        "id": "LhP9sYJ4k8YM"
      },
      "execution_count": null,
      "outputs": []
    },
    {
      "cell_type": "code",
      "source": [],
      "metadata": {
        "id": "UqMH5CDBlM8R"
      },
      "execution_count": null,
      "outputs": []
    }
  ]
}